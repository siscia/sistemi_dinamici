{
 "metadata": {
  "name": "",
  "signature": "sha256:9c2a81dbfd75ba6193bb3865022cad00e9a77f023296ee82f613f3bc065ac6dc"
 },
 "nbformat": 3,
 "nbformat_minor": 0,
 "worksheets": [
  {
   "cells": [
    {
     "cell_type": "markdown",
     "metadata": {},
     "source": [
      "$$ \\dot{x_1} = rx_1(1-x_1)-\\frac{5x_1x_2}{1+3x_1}$$\n",
      "$$ \\dot{x_2} = \\frac{5x_1x_2}{1+3x_1} - mx_2 - \\frac{2ax_3x_2}{1+2x_2}$$\n",
      "$$ \\dot{x_3} = \\frac{2ax_3x_2}{1+2x_2} - 0.0001x_3$$"
     ]
    },
    {
     "cell_type": "code",
     "collapsed": false,
     "input": [
      "%matplotlib inline"
     ],
     "language": "python",
     "metadata": {},
     "outputs": [],
     "prompt_number": 1
    },
    {
     "cell_type": "code",
     "collapsed": false,
     "input": [
      "from PyDSTool import *"
     ],
     "language": "python",
     "metadata": {},
     "outputs": [],
     "prompt_number": 2
    },
    {
     "cell_type": "code",
     "collapsed": false,
     "input": [
      "from random import random"
     ],
     "language": "python",
     "metadata": {},
     "outputs": [],
     "prompt_number": 3
    },
    {
     "cell_type": "code",
     "collapsed": false,
     "input": [
      "r = Par(101.0/100, 'r')\n",
      "m = Par(0.122, 'm')\n",
      "\n",
      "x1 = Var('x1')\n",
      "x2 = Var('x2')\n",
      "x3 = Var('x3')"
     ],
     "language": "python",
     "metadata": {},
     "outputs": [],
     "prompt_number": 4
    },
    {
     "cell_type": "code",
     "collapsed": false,
     "input": [
      "a = Par(0.005, 'a')\n",
      "\n",
      "x1_dot = 100*(r*x1*(1-x1) - (5*x1*x2)/(1+3*x1))\n",
      "x2_dot = 100*((5*x1*x2)/(1+3*x1) - m*x2 - (2*(a*x3)*x2)/(1+2*x2))\n",
      "x3_dot = 100*((2*(a*x3)*x2) / (1+2*x2) - 0.0001*x3)"
     ],
     "language": "python",
     "metadata": {},
     "outputs": [],
     "prompt_number": 22
    },
    {
     "cell_type": "code",
     "collapsed": false,
     "input": [
      "variable = {x1 : x1_dot, \n",
      "            x2 : x2_dot,\n",
      "            x3 : x3_dot}\n",
      "\n",
      "initial_condition = {x1 : 0.5, \n",
      "                     x2 : 0.2,\n",
      "                     x3 : 0.8}\n",
      "\n",
      "state = {'initial_condition' : initial_condition,\n",
      "         'parameter' : float(str(a.eval()))}\n",
      "\n",
      "def create_time_partition(to, frm, time_step):\n",
      "    return [[x, x + time_step] for x in xrange(to, frm, time_step)]\n",
      "\n",
      "thresh_ev_prec = Events.makeZeroCrossEvent('x1-1.0', 1,\n",
      "                                {'name': 'thresh_ev_prec',\n",
      "                                 'eventtol': 1e-4,\n",
      "                                 'precise' : False,\n",
      "                                 'term': False}, ['x1'],\n",
      "                                    targetlang='c')\n",
      "\n",
      "time_partition = create_time_partition(0, 5000, 50)\n",
      "Chaotic_args = args()\n",
      "Chaotic_args.name = 'RisorsaConsumatoreSuperChaotic2'\n",
      "Chaotic_args.ics = state['initial_condition']\n",
      "Chaotic_args.pars = [r, m, a]\n",
      "Chaotic_args.varspecs = variable\n",
      "Chaotic_args.algparams = {'max_pts' : int(10e6), 'fac1' : 0.90}\n",
      "#Chaotic_args['events'] = thresh_ev_prec\n",
      "\n",
      "Chaotic = Generator.Dopri_ODEsystem(Chaotic_args)\n",
      "\n",
      "for time in time_partition:\n",
      "    # print time\n",
      "    Chaotic.set(tdata = time)\n",
      "    traj = Chaotic.compute('Long', 'c')\n",
      "\n",
      "if traj:\n",
      "    pts = traj.sample()\n",
      "    plt.figure(figsize=(10, 10), dpi=300)\n",
      "    plt.plot(pts['t'], pts['x1'], label = 'Prede')\n",
      "    plt.plot(pts['t'], pts['x2'], label = 'Consumatori')\n",
      "    plt.plot(pts['t'], pts['x3'], label = 'Super')\n",
      "    plt.legend()\n",
      "    plt.xlabel('t')\n",
      "    plt.figure()\n",
      "    #evt = Chaotic.getEventTimes()['thresh_ev_prec']\n",
      "    #plot(evt)\n",
      "else:\n",
      "    print Chaotic.diagnostics.showErrors()\n",
      "    print Chaotic.diagnostics.showWarnings()"
     ],
     "language": "python",
     "metadata": {},
     "outputs": [
      {
       "output_type": "stream",
       "stream": "stdout",
       "text": [
        "running build_ext\n"
       ]
      },
      {
       "output_type": "stream",
       "stream": "stdout",
       "text": [
        "running build_src\n"
       ]
      },
      {
       "output_type": "stream",
       "stream": "stdout",
       "text": [
        "build_src\n"
       ]
      },
      {
       "output_type": "stream",
       "stream": "stdout",
       "text": [
        "building py_modules sources\n"
       ]
      },
      {
       "output_type": "stream",
       "stream": "stdout",
       "text": [
        "building extension \"/home/simo/sistemi_dinamici/dop853_temp._dop853_RisorsaConsumatoreSuperChaotic2_vf\" sources\n"
       ]
      },
      {
       "output_type": "stream",
       "stream": "stdout",
       "text": [
        "swig: /home/simo/sistemi_dinamici/dop853_temp/dop853_RisorsaConsumatoreSuperChaotic2_vf.i\n"
       ]
      },
      {
       "output_type": "stream",
       "stream": "stdout",
       "text": [
        "swig -python -I/usr/lib/python2.7/dist-packages/numpy/core/include -I/home/simo/sistemi_dinamici -I/usr/local/lib/python2.7/dist-packages/PyDSTool/integrator -o /home/simo/sistemi_dinamici/dop853_temp/dop853_RisorsaConsumatoreSuperChaotic2_vf_wrap.c -outdir /home/simo/sistemi_dinamici/dop853_temp /home/simo/sistemi_dinamici/dop853_temp/dop853_RisorsaConsumatoreSuperChaotic2_vf.i\n"
       ]
      },
      {
       "output_type": "stream",
       "stream": "stdout",
       "text": [
        "build_src: building npy-pkg config files\n"
       ]
      },
      {
       "output_type": "stream",
       "stream": "stdout",
       "text": [
        "customize UnixCCompiler\n"
       ]
      },
      {
       "output_type": "stream",
       "stream": "stdout",
       "text": [
        "customize UnixCCompiler using build_ext\n"
       ]
      },
      {
       "output_type": "stream",
       "stream": "stdout",
       "text": [
        "building '/home/simo/sistemi_dinamici/dop853_temp._dop853_RisorsaConsumatoreSuperChaotic2_vf' extension\n"
       ]
      },
      {
       "output_type": "stream",
       "stream": "stdout",
       "text": [
        "compiling C sources\n"
       ]
      },
      {
       "output_type": "stream",
       "stream": "stdout",
       "text": [
        "C compiler: x86_64-linux-gnu-gcc -pthread -fno-strict-aliasing -DNDEBUG -g -fwrapv -O2 -Wall -Wstrict-prototypes -fPIC\n",
        "\n"
       ]
      },
      {
       "output_type": "stream",
       "stream": "stdout",
       "text": [
        "compile options: '-I/usr/lib/python2.7/dist-packages/numpy/core/include -I/home/simo/sistemi_dinamici -I/usr/local/lib/python2.7/dist-packages/PyDSTool/integrator -I/usr/lib/python2.7/dist-packages/numpy/core/include -I/usr/include/python2.7 -c'\n",
        "extra options: '-w -Wno-return-type -Wall -D__DOPRI__'\n"
       ]
      },
      {
       "output_type": "stream",
       "stream": "stdout",
       "text": [
        "x86_64-linux-gnu-gcc: /usr/local/lib/python2.7/dist-packages/PyDSTool/integrator/eventFinding.c\n"
       ]
      },
      {
       "output_type": "stream",
       "stream": "stdout",
       "text": [
        "x86_64-linux-gnu-gcc: /home/simo/sistemi_dinamici/dop853_temp/RisorsaConsumatoreSuperChaotic2_vf.c\n"
       ]
      },
      {
       "output_type": "stream",
       "stream": "stdout",
       "text": [
        "x86_64-linux-gnu-gcc: /usr/local/lib/python2.7/dist-packages/PyDSTool/integrator/dop853.c\n"
       ]
      },
      {
       "output_type": "stream",
       "stream": "stdout",
       "text": [
        "x86_64-linux-gnu-gcc: /home/simo/sistemi_dinamici/dop853_temp/dop853_RisorsaConsumatoreSuperChaotic2_vf_wrap.c\n"
       ]
      },
      {
       "output_type": "stream",
       "stream": "stdout",
       "text": [
        "x86_64-linux-gnu-gcc: /usr/local/lib/python2.7/dist-packages/PyDSTool/integrator/integration.c\n"
       ]
      },
      {
       "output_type": "stream",
       "stream": "stdout",
       "text": [
        "x86_64-linux-gnu-gcc: /usr/local/lib/python2.7/dist-packages/PyDSTool/integrator/interface.c\n"
       ]
      },
      {
       "output_type": "stream",
       "stream": "stdout",
       "text": [
        "x86_64-linux-gnu-gcc: /usr/local/lib/python2.7/dist-packages/PyDSTool/integrator/dop853mod.c\n"
       ]
      },
      {
       "output_type": "stream",
       "stream": "stdout",
       "text": [
        "x86_64-linux-gnu-gcc: /usr/local/lib/python2.7/dist-packages/PyDSTool/integrator/memory.c\n"
       ]
      },
      {
       "output_type": "stream",
       "stream": "stdout",
       "text": [
        "x86_64-linux-gnu-gcc -pthread -shared -Wl,-O1 -Wl,-Bsymbolic-functions -Wl,-Bsymbolic-functions -Wl,-z,relro -fno-strict-aliasing -DNDEBUG -g -fwrapv -O2 -Wall -Wstrict-prototypes -D_FORTIFY_SOURCE=2 -g -fstack-protector --param=ssp-buffer-size=4 -Wformat -Werror=format-security /home/simo/sistemi_dinamici/dop853_temp/home/simo/sistemi_dinamici/dop853_temp/RisorsaConsumatoreSuperChaotic2_vf.o /home/simo/sistemi_dinamici/dop853_temp/usr/local/lib/python2.7/dist-packages/PyDSTool/integrator/dop853mod.o /home/simo/sistemi_dinamici/dop853_temp/usr/local/lib/python2.7/dist-packages/PyDSTool/integrator/dop853.o /home/simo/sistemi_dinamici/dop853_temp/usr/local/lib/python2.7/dist-packages/PyDSTool/integrator/integration.o /home/simo/sistemi_dinamici/dop853_temp/usr/local/lib/python2.7/dist-packages/PyDSTool/integrator/interface.o /home/simo/sistemi_dinamici/dop853_temp/usr/local/lib/python2.7/dist-packages/PyDSTool/integrator/eventFinding.o /home/simo/sistemi_dinamici/dop853_temp/usr/local/lib/python2.7/dist-packages/PyDSTool/integrator/memory.o /home/simo/sistemi_dinamici/dop853_temp/home/simo/sistemi_dinamici/dop853_temp/dop853_RisorsaConsumatoreSuperChaotic2_vf_wrap.o -o /home/simo/sistemi_dinamici/dop853_temp/_dop853_RisorsaConsumatoreSuperChaotic2_vf.so -w\n"
       ]
      },
      {
       "metadata": {},
       "output_type": "display_data",
       "png": "[encoded data removed]",
       "text": [
        "<matplotlib.figure.Figure at 0x7f9d6c21ea10>"
       ]
      },
      {
       "metadata": {},
       "output_type": "display_data",
       "text": [
        "<matplotlib.figure.Figure at 0x7f9d4db9e350>"
       ]
      }
     ],
     "prompt_number": 26
    },
    {
     "cell_type": "code",
     "collapsed": false,
     "input": [
      "poincarre = []\n",
      "\n",
      "for i, p in enumerate(pts):\n",
      "    if abs(p['x1'] - 1.0) < 0.001:\n",
      "        poincarre.append(p)\n",
      "\n",
      "print len(poincarre)"
     ],
     "language": "python",
     "metadata": {},
     "outputs": [
      {
       "output_type": "stream",
       "stream": "stdout",
       "text": [
        "55401\n"
       ]
      }
     ],
     "prompt_number": 27
    },
    {
     "cell_type": "code",
     "collapsed": false,
     "input": [
      "plt.figure(figsize = (20, 20), dpi = 300)\n",
      "poincarre_x2 = map(lambda x: x['x2'], poincarre)\n",
      "poincarre_x3 = map(lambda x: x['x3'], poincarre)\n",
      "plt.plot(poincarre_x2, poincarre_x3, 'o', label = 'Prede')"
     ],
     "language": "python",
     "metadata": {},
     "outputs": []
    },
    {
     "cell_type": "code",
     "collapsed": false,
     "input": [],
     "language": "python",
     "metadata": {},
     "outputs": [],
     "prompt_number": 0
    }
   ],
   "metadata": {}
  }
 ]
}