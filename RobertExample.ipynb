{
 "metadata": {
  "name": "",
  "signature": "sha256:1f74bf2463d7373040770134ac4356529e1f184f33cc101b924e5d9db944189b"
 },
 "nbformat": 3,
 "nbformat_minor": 0,
 "worksheets": [
  {
   "cells": [
    {
     "cell_type": "code",
     "collapsed": false,
     "input": [
      "%matplotlib inline"
     ],
     "language": "python",
     "metadata": {},
     "outputs": [],
     "prompt_number": 1
    },
    {
     "cell_type": "code",
     "collapsed": false,
     "input": [
      "from PyDSTool import *"
     ],
     "language": "python",
     "metadata": {},
     "outputs": [],
     "prompt_number": 2
    },
    {
     "cell_type": "code",
     "collapsed": false,
     "input": [
      "r = Par(101.0/100, 'r')\n",
      "m = Par(0.122, 'm')"
     ],
     "language": "python",
     "metadata": {},
     "outputs": [],
     "prompt_number": 11
    },
    {
     "cell_type": "markdown",
     "metadata": {},
     "source": [
      "$$ \\dot{x_1} = rx_1(1-x_1)-\\frac{5x_1x_2}{1+3x_1}$$\n",
      "$$ \\dot{x_2} = \\frac{5x_1x_2}{1+3x_1} - mx_2 - \\frac{2ax_3x_2}{1+2x_2}$$\n",
      "$$ \\dot{x_3} = \\frac{2ax_3x_2}{1+2x_2} - 0.0001x_3$$\n"
     ]
    },
    {
     "cell_type": "code",
     "collapsed": false,
     "input": [
      "x1 = Var('x1')\n",
      "x2 = Var('x2')\n",
      "x3 = Var('x3')\n",
      "\n",
      "a = Par(0.3, 'a')\n",
      "\n",
      "x1_dot = r*x1*(1-x1) - (5*x1*x2)/(1+3*x1)\n",
      "x2_dot = (5*x1*x2)/(1+3*x1) - m*x2 - (2*(a*x3)*x2)/(1+2*x2)\n",
      "x3_dot = (2*(a*x3)*x2) / (1+2*x2) - 0.0001*x3\n"
     ],
     "language": "python",
     "metadata": {},
     "outputs": [],
     "prompt_number": 16
    },
    {
     "cell_type": "code",
     "collapsed": false,
     "input": [
      "variable = {x1 : x1_dot, \n",
      "            x2 : x2_dot,\n",
      "            x3 : x3_dot}\n",
      "\n",
      "initial_condition = {x1 : 0.8, \n",
      "                     x2 : 0.5,\n",
      "                     x3 : 0.8}\n",
      "\n",
      "Chaotic_args = args()\n",
      "Chaotic_args.name = 'RisorsaConsumatoreSuperChaotic1'\n",
      "Chaotic_args.ics = initial_condition\n",
      "Chaotic_args.pars = [r, m, a]\n",
      "Chaotic_args.tdata = [0, 8000]\n",
      "Chaotic_args.varspecs = variable\n",
      "Chaotic_args.algparams = {'max_pts' : 500000, 'fac1' : 0.9}\n",
      "\n",
      "Chaotic = Generator.Radau_ODEsystem(Chaotic_args)\n",
      "Chaotic.set(tdata = [0, 10000])\n",
      "traj = Chaotic.compute('First')\n",
      "Chaotic.set(tdata = [10000, 13000])\n",
      "traj = Chaotic.compute('First', 'c')\n",
      "\n",
      "if traj:\n",
      "    pts = traj.sample()\n",
      "    plt.figure(figsize=(10, 10), dpi=300)\n",
      "    plt.plot(pts['t'], pts['x1'], label = 'Prede')\n",
      "    plt.plot(pts['t'], pts['x2'], label = 'Consumatori')\n",
      "    plt.plot(pts['t'], pts['x3'], label = 'Super')\n",
      "    plt.legend()\n",
      "    plt.xlabel('t')\n",
      "else:\n",
      "    print Chaotic.diagnostics.showErrors()\n",
      "    print Chaotic.diagnostics.showWarnings()"
     ],
     "language": "python",
     "metadata": {},
     "outputs": [
      {
       "output_type": "stream",
       "stream": "stdout",
       "text": [
        "\n",
        "\n",
        "-----------------------------------------------------------\n",
        "Present limitation of Python: Cannot rebuild library\n",
        "without exiting Python and deleting the shared library\n",
        "   /home/simo/sistemi_dinamici/_radau5_RisorsaConsumatoreSuperChaotic1_vf.so\n",
        "by hand! If you made any changes to the system you should\n",
        "not proceed with running the integrator until you quit\n",
        "and rebuild.\n",
        "-----------------------------------------------------------\n",
        "\n",
        "\n",
        "Did not compile shared library.\n"
       ]
      },
      {
       "ename": "PyDSTool_ExistError",
       "evalue": "'No trajectory created'",
       "output_type": "pyerr",
       "traceback": [
        "\u001b[1;31m---------------------------------------------------------------------------\u001b[0m\n\u001b[1;31mPyDSTool_ExistError\u001b[0m                       Traceback (most recent call last)",
        "\u001b[1;32m<ipython-input-43-cb6fc6a5e9ba>\u001b[0m in \u001b[0;36m<module>\u001b[1;34m()\u001b[0m\n\u001b[0;32m     17\u001b[0m \u001b[0mChaotic\u001b[0m \u001b[1;33m=\u001b[0m \u001b[0mGenerator\u001b[0m\u001b[1;33m.\u001b[0m\u001b[0mRadau_ODEsystem\u001b[0m\u001b[1;33m(\u001b[0m\u001b[0mChaotic_args\u001b[0m\u001b[1;33m)\u001b[0m\u001b[1;33m\u001b[0m\u001b[0m\n\u001b[0;32m     18\u001b[0m \u001b[0mChaotic\u001b[0m\u001b[1;33m.\u001b[0m\u001b[0mset\u001b[0m\u001b[1;33m(\u001b[0m\u001b[0mtdata\u001b[0m \u001b[1;33m=\u001b[0m \u001b[1;33m[\u001b[0m\u001b[1;36m0\u001b[0m\u001b[1;33m,\u001b[0m \u001b[1;36m10000\u001b[0m\u001b[1;33m]\u001b[0m\u001b[1;33m)\u001b[0m\u001b[1;33m\u001b[0m\u001b[0m\n\u001b[1;32m---> 19\u001b[1;33m \u001b[0mtraj\u001b[0m \u001b[1;33m=\u001b[0m \u001b[0mChaotic\u001b[0m\u001b[1;33m.\u001b[0m\u001b[0mcompute\u001b[0m\u001b[1;33m(\u001b[0m\u001b[1;34m'First'\u001b[0m\u001b[1;33m)\u001b[0m\u001b[1;33m\u001b[0m\u001b[0m\n\u001b[0m\u001b[0;32m     20\u001b[0m \u001b[0mChaotic\u001b[0m\u001b[1;33m.\u001b[0m\u001b[0mset\u001b[0m\u001b[1;33m(\u001b[0m\u001b[0mtdata\u001b[0m \u001b[1;33m=\u001b[0m \u001b[1;33m[\u001b[0m\u001b[1;36m10000\u001b[0m\u001b[1;33m,\u001b[0m \u001b[1;36m13000\u001b[0m\u001b[1;33m]\u001b[0m\u001b[1;33m)\u001b[0m\u001b[1;33m\u001b[0m\u001b[0m\n\u001b[0;32m     21\u001b[0m \u001b[0mtraj\u001b[0m \u001b[1;33m=\u001b[0m \u001b[0mChaotic\u001b[0m\u001b[1;33m.\u001b[0m\u001b[0mcompute\u001b[0m\u001b[1;33m(\u001b[0m\u001b[1;34m'First'\u001b[0m\u001b[1;33m,\u001b[0m \u001b[1;34m'c'\u001b[0m\u001b[1;33m)\u001b[0m\u001b[1;33m\u001b[0m\u001b[0m\n",
        "\u001b[1;32m/usr/local/lib/python2.7/dist-packages/PyDSTool/Generator/Radau_ODEsystem.pyc\u001b[0m in \u001b[0;36mcompute\u001b[1;34m(self, trajname, dirn, ics)\u001b[0m\n\u001b[0;32m    965\u001b[0m             self.diagnostics.errors.append((E_COMPUTFAIL,\n\u001b[0;32m    966\u001b[0m                                     (self._solver.lastTime, diagnost_info)))\n\u001b[1;32m--> 967\u001b[1;33m             \u001b[1;32mraise\u001b[0m \u001b[0mPyDSTool_ExistError\u001b[0m\u001b[1;33m(\u001b[0m\u001b[1;34m\"No trajectory created\"\u001b[0m\u001b[1;33m)\u001b[0m\u001b[1;33m\u001b[0m\u001b[0m\n\u001b[0m\u001b[0;32m    968\u001b[0m \u001b[1;33m\u001b[0m\u001b[0m\n\u001b[0;32m    969\u001b[0m \u001b[1;33m\u001b[0m\u001b[0m\n",
        "\u001b[1;31mPyDSTool_ExistError\u001b[0m: 'No trajectory created'"
       ]
      }
     ],
     "prompt_number": 43
    },
    {
     "cell_type": "code",
     "collapsed": false,
     "input": [
      "Chaotic.diagnostics.errors"
     ],
     "language": "python",
     "metadata": {},
     "outputs": [
      {
       "metadata": {},
       "output_type": "pyout",
       "prompt_number": 46,
       "text": [
        "[(0, (4021.5995321045343, 'step size becomes too small'))]"
       ]
      }
     ],
     "prompt_number": 46
    },
    {
     "cell_type": "code",
     "collapsed": false,
     "input": [],
     "language": "python",
     "metadata": {},
     "outputs": [],
     "prompt_number": 41
    },
    {
     "cell_type": "code",
     "collapsed": false,
     "input": [],
     "language": "python",
     "metadata": {},
     "outputs": []
    }
   ],
   "metadata": {}
  }
 ]
}